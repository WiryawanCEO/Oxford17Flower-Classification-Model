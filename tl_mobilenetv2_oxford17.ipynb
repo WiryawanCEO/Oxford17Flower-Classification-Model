{
  "nbformat": 4,
  "nbformat_minor": 0,
  "metadata": {
    "colab": {
      "name": "tl_mobilenetv2_oxford17.ipynb",
      "provenance": [],
      "collapsed_sections": [],
      "authorship_tag": "ABX9TyM4LhoDHGF6b6IDAWwScpvq",
      "include_colab_link": true
    },
    "kernelspec": {
      "name": "python3",
      "display_name": "Python 3"
    },
    "accelerator": "GPU"
  },
  "cells": [
    {
      "cell_type": "markdown",
      "metadata": {
        "id": "view-in-github",
        "colab_type": "text"
      },
      "source": [
        "<a href=\"https://colab.research.google.com/github/WiryawanCEO/Oxford17Flower-Classification-Model/blob/main/tl_mobilenetv2_oxford17.ipynb\" target=\"_parent\"><img src=\"https://colab.research.google.com/assets/colab-badge.svg\" alt=\"Open In Colab\"/></a>"
      ]
    },
    {
      "cell_type": "markdown",
      "metadata": {
        "id": "5AfJ0aAmXNQi"
      },
      "source": [
        "Import library dan depedencies yang akan digunakan"
      ]
    },
    {
      "cell_type": "code",
      "metadata": {
        "id": "Ai4TMwb4WrVh"
      },
      "source": [
        "import tensorflow as tf\n",
        "import os\n",
        "import sys\n",
        "import matplotlib.pyplot as plt\n",
        "import numpy as np\n",
        "import itertools\n",
        "import math\n",
        "import shutil\n",
        "\n",
        "from sklearn.model_selection import train_test_split\n",
        "from google.colab import drive\n",
        "from pathlib import Path\n",
        "from sklearn.metrics import classification_report, confusion_matrix\n",
        "from tensorflow.keras.optimizers import Adam\n",
        "from tensorflow.keras.preprocessing.image import ImageDataGenerator"
      ],
      "execution_count": null,
      "outputs": []
    },
    {
      "cell_type": "markdown",
      "metadata": {
        "id": "vT7-nU2NXUTN"
      },
      "source": [
        "Buat koneksi dengan Google Drive"
      ]
    },
    {
      "cell_type": "code",
      "metadata": {
        "id": "wQK4YVAXXMOD",
        "colab": {
          "base_uri": "https://localhost:8080/",
          "height": 121
        },
        "outputId": "62df9de0-c78a-49c4-989d-5b6f0de8791a"
      },
      "source": [
        "drive.mount('/content/drive')\n",
        "base = Path('/content/drive/My Drive/')\n",
        "sys.path.append(str(base))\n",
        "\n",
        "zip_path = base/'oxford_17_flower_dataset.zip'\n",
        "!cp '{zip_path}' .\n",
        "\n",
        "!unzip -q oxford_17_flower_dataset.zip\n",
        "!rm oxford_17_flower_dataset.zip"
      ],
      "execution_count": null,
      "outputs": [
        {
          "output_type": "stream",
          "text": [
            "Go to this URL in a browser: https://accounts.google.com/o/oauth2/auth?client_id=947318989803-6bn6qk8qdgf4n4g3pfee6491hc0brc4i.apps.googleusercontent.com&redirect_uri=urn%3aietf%3awg%3aoauth%3a2.0%3aoob&response_type=code&scope=email%20https%3a%2f%2fwww.googleapis.com%2fauth%2fdocs.test%20https%3a%2f%2fwww.googleapis.com%2fauth%2fdrive%20https%3a%2f%2fwww.googleapis.com%2fauth%2fdrive.photos.readonly%20https%3a%2f%2fwww.googleapis.com%2fauth%2fpeopleapi.readonly\n",
            "\n",
            "Enter your authorization code:\n",
            "··········\n",
            "Mounted at /content/drive\n"
          ],
          "name": "stdout"
        }
      ]
    },
    {
      "cell_type": "code",
      "metadata": {
        "id": "9LHdrONpnT9X",
        "colab": {
          "base_uri": "https://localhost:8080/",
          "height": 302
        },
        "outputId": "40f372cc-4d73-41cb-98df-b1612854dea6"
      },
      "source": [
        "os.listdir('oxford_17_flower_dataset')"
      ],
      "execution_count": null,
      "outputs": [
        {
          "output_type": "execute_result",
          "data": {
            "text/plain": [
              "['Dandelion',\n",
              " 'Tigerlily',\n",
              " 'Sunflower',\n",
              " 'Coltsfoot',\n",
              " 'Windflower',\n",
              " 'Buttercup',\n",
              " 'Lillyvalley',\n",
              " 'Tulip',\n",
              " 'Fritillary',\n",
              " 'Pansy',\n",
              " 'Daisy',\n",
              " 'Iris',\n",
              " 'Crocus',\n",
              " 'Bluebell',\n",
              " 'Daffodil',\n",
              " 'Cowslip',\n",
              " 'Snowdrop']"
            ]
          },
          "metadata": {
            "tags": []
          },
          "execution_count": 3
        }
      ]
    },
    {
      "cell_type": "code",
      "metadata": {
        "id": "cDl7oKoyqQoz"
      },
      "source": [
        "#Create train and validation directory\n",
        "base_dir = 'oxford_17_flower_dataset'\n",
        "train_dir = os.path.join(base_dir,'train')\n",
        "validation_dir = os.path.join(base_dir, 'valid')\n",
        "os.mkdir(train_dir)\n",
        "os.mkdir(validation_dir)"
      ],
      "execution_count": null,
      "outputs": []
    },
    {
      "cell_type": "code",
      "metadata": {
        "id": "Ij6TgE7lqchr"
      },
      "source": [
        "#Make directory reference\n",
        "dandelion_dir = os.path.join(base_dir, 'Dandelion')\n",
        "crocus_dir = os.path.join(base_dir, 'Crocus')\n",
        "coltsfoot_dir = os.path.join(base_dir, 'Coltsfoot')\n",
        "bluebell_dir = os.path.join(base_dir, 'Bluebell')\n",
        "snowdrop_dir = os.path.join(base_dir, 'Snowdrop')\n",
        "lillyvalley_dir = os.path.join(base_dir, 'Lillyvalley')\n",
        "fritillary_dir = os.path.join(base_dir, 'Fritillary')\n",
        "daffodil_dir = os.path.join(base_dir, 'Daffodil')\n",
        "tulip_dir = os.path.join(base_dir, 'Tulip')\n",
        "windflower_dir = os.path.join(base_dir, 'Windflower')\n",
        "cowslip_dir = os.path.join(base_dir, 'Cowslip')\n",
        "iris_dir = os.path.join(base_dir, 'Iris')\n",
        "buttercup_dir = os.path.join(base_dir, 'Buttercup')\n",
        "tigerlily_dir = os.path.join(base_dir, 'Tigerlily')\n",
        "daisy_dir = os.path.join(base_dir, 'Daisy')\n",
        "sunflower_dir = os.path.join(base_dir, 'Sunflower')\n",
        "pansy_dir = os.path.join(base_dir, 'Pansy')"
      ],
      "execution_count": null,
      "outputs": []
    },
    {
      "cell_type": "code",
      "metadata": {
        "id": "YDA2piSCqjiX"
      },
      "source": [
        "#split dataset into train and validation for all class\n",
        "train_dandelion_dir, val_dandelion_dir = train_test_split(os.listdir(dandelion_dir), test_size = 0.3)\n",
        "train_crocus_dir, val_crocus_dir = train_test_split(os.listdir(crocus_dir), test_size = 0.3)\n",
        "train_coltsfoot_dir, val_coltsfoot_dir = train_test_split(os.listdir(coltsfoot_dir), test_size = 0.3)\n",
        "train_bluebell_dir, val_bluebell_dir = train_test_split(os.listdir(bluebell_dir), test_size = 0.3)\n",
        "train_snowdrop_dir, val_snowdrop_dir = train_test_split(os.listdir(snowdrop_dir), test_size = 0.3)\n",
        "train_lillyvalley_dir, val_lillyvalley_dir = train_test_split(os.listdir(lillyvalley_dir), test_size = 0.3)\n",
        "train_fritillary_dir, val_fritillary_dir = train_test_split(os.listdir(fritillary_dir), test_size = 0.3)\n",
        "train_daffodil_dir, val_daffodil_dir = train_test_split(os.listdir(daffodil_dir), test_size = 0.3)\n",
        "train_tulip_dir, val_tulip_dir = train_test_split(os.listdir(tulip_dir), test_size = 0.3)\n",
        "train_windflower_dir, val_windflower_dir = train_test_split(os.listdir(windflower_dir), test_size = 0.3)\n",
        "train_cowslip_dir, val_cowslip_dir = train_test_split(os.listdir(cowslip_dir), test_size = 0.3)\n",
        "train_iris_dir, val_iris_dir = train_test_split(os.listdir(iris_dir), test_size = 0.3)\n",
        "train_buttercup_dir, val_buttercup_dir = train_test_split(os.listdir(buttercup_dir), test_size = 0.3)\n",
        "train_tigerlily_dir, val_tigerlily_dir = train_test_split(os.listdir(tigerlily_dir), test_size = 0.3)\n",
        "train_daisy_dir, val_daisy_dir = train_test_split(os.listdir(daisy_dir), test_size = 0.3)\n",
        "train_sunflower_dir, val_sunflower_dir = train_test_split(os.listdir(sunflower_dir), test_size = 0.3)\n",
        "train_pansy_dir, val_pansy_dir = train_test_split(os.listdir(pansy_dir), test_size = 0.3)"
      ],
      "execution_count": null,
      "outputs": []
    },
    {
      "cell_type": "code",
      "metadata": {
        "id": "divYnQFmt5xy"
      },
      "source": [
        "#Create directory for class in train and validation directory\n",
        "\n",
        "#train directory\n",
        "train_dandelion = os.path.join(train_dir, 'Dandelion')\n",
        "os.mkdir(train_dandelion)\n",
        "train_crocus = os.path.join(train_dir, 'Crocus')\n",
        "os.mkdir(train_crocus)\n",
        "train_coltsfoot = os.path.join(train_dir, 'Coltsfoot')\n",
        "os.mkdir(train_coltsfoot)\n",
        "train_bluebell = os.path.join(train_dir, 'Bluebell')\n",
        "os.mkdir(train_bluebell)\n",
        "train_snowdrop = os.path.join(train_dir, 'Snowdrop')\n",
        "os.mkdir(train_snowdrop)\n",
        "train_lillyvalley = os.path.join(train_dir, 'Lillyvalley')\n",
        "os.mkdir(train_lillyvalley)\n",
        "train_fritillary = os.path.join(train_dir, 'Fritillary')\n",
        "os.mkdir(train_fritillary)\n",
        "train_daffodil = os.path.join(train_dir, 'Daffodil')\n",
        "os.mkdir(train_daffodil)\n",
        "train_tulip = os.path.join(train_dir, 'Tulip')\n",
        "os.mkdir(train_tulip)\n",
        "train_windflower = os.path.join(train_dir, 'Windflower')\n",
        "os.mkdir(train_windflower)\n",
        "train_cowslip = os.path.join(train_dir, 'Cowslip')\n",
        "os.mkdir(train_cowslip)\n",
        "train_iris = os.path.join(train_dir, 'Iris')\n",
        "os.mkdir(train_iris)\n",
        "train_buttercup = os.path.join(train_dir, 'Buttercup')\n",
        "os.mkdir(train_buttercup)\n",
        "train_tigerlily = os.path.join(train_dir, 'Tigerlily')\n",
        "os.mkdir(train_tigerlily)\n",
        "train_daisy = os.path.join(train_dir, 'Daisy')\n",
        "os.mkdir(train_daisy)\n",
        "train_sunflower = os.path.join(train_dir, 'Sunflower')\n",
        "os.mkdir(train_sunflower)\n",
        "train_pansy = os.path.join(train_dir, 'Pansy')\n",
        "os.mkdir(train_pansy)\n",
        "\n",
        "#val directory\n",
        "val_dandelion = os.path.join(validation_dir, 'Dandelion')\n",
        "os.mkdir(val_dandelion)\n",
        "val_crocus = os.path.join(validation_dir, 'Crocus')\n",
        "os.mkdir(val_crocus)\n",
        "val_coltsfoot = os.path.join(validation_dir, 'Coltsfoot')\n",
        "os.mkdir(val_coltsfoot)\n",
        "val_bluebell = os.path.join(validation_dir, 'Bluebell')\n",
        "os.mkdir(val_bluebell)\n",
        "val_snowdrop = os.path.join(validation_dir, 'Snowdrop')\n",
        "os.mkdir(val_snowdrop)\n",
        "val_lillyvalley = os.path.join(validation_dir, 'Lillyvalley')\n",
        "os.mkdir(val_lillyvalley)\n",
        "val_fritillary = os.path.join(validation_dir, 'Fritillary')\n",
        "os.mkdir(val_fritillary)\n",
        "val_daffodil = os.path.join(validation_dir, 'Daffodil')\n",
        "os.mkdir(val_daffodil)\n",
        "val_tulip = os.path.join(validation_dir, 'Tulip')\n",
        "os.mkdir(val_tulip)\n",
        "val_windflower = os.path.join(validation_dir, 'Windflower')\n",
        "os.mkdir(val_windflower)\n",
        "val_cowslip = os.path.join(validation_dir, 'Cowslip')\n",
        "os.mkdir(val_cowslip)\n",
        "val_iris = os.path.join(validation_dir, 'Iris')\n",
        "os.mkdir(val_iris)\n",
        "val_buttercup = os.path.join(validation_dir, 'Buttercup')\n",
        "os.mkdir(val_buttercup)\n",
        "val_tigerlily = os.path.join(validation_dir, 'Tigerlily')\n",
        "os.mkdir(val_tigerlily)\n",
        "val_daisy = os.path.join(validation_dir, 'Daisy')\n",
        "os.mkdir(val_daisy)\n",
        "val_sunflower = os.path.join(validation_dir, 'Sunflower')\n",
        "os.mkdir(val_sunflower)\n",
        "val_pansy = os.path.join(validation_dir, 'Pansy')\n",
        "os.mkdir(val_pansy)"
      ],
      "execution_count": null,
      "outputs": []
    },
    {
      "cell_type": "code",
      "metadata": {
        "id": "KMzI0GiczEda"
      },
      "source": [
        "#Copy datasets to new directory\n",
        "#train directory\n",
        "for i in train_dandelion_dir:\n",
        "  shutil.copy(os.path.join(dandelion_dir, i), os.path.join(train_dandelion, i))\n",
        "for i in train_crocus_dir:\n",
        "  shutil.copy(os.path.join(crocus_dir, i), os.path.join(train_crocus, i))\n",
        "for i in train_coltsfoot_dir:\n",
        "  shutil.copy(os.path.join(coltsfoot_dir, i), os.path.join(train_coltsfoot, i))\n",
        "for i in train_bluebell_dir:\n",
        "  shutil.copy(os.path.join(bluebell_dir, i), os.path.join(train_bluebell, i))\n",
        "for i in train_snowdrop_dir:\n",
        "  shutil.copy(os.path.join(snowdrop_dir, i), os.path.join(train_snowdrop, i))\n",
        "for i in train_lillyvalley_dir:\n",
        "  shutil.copy(os.path.join(lillyvalley_dir, i), os.path.join(train_lillyvalley, i))\n",
        "for i in train_fritillary_dir:\n",
        "  shutil.copy(os.path.join(fritillary_dir, i), os.path.join(train_fritillary, i))\n",
        "for i in train_daffodil_dir:\n",
        "  shutil.copy(os.path.join(daffodil_dir, i), os.path.join(train_daffodil, i))\n",
        "for i in train_tulip_dir:\n",
        "  shutil.copy(os.path.join(tulip_dir, i), os.path.join(train_tulip, i))\n",
        "for i in train_windflower_dir:\n",
        "  shutil.copy(os.path.join(windflower_dir, i), os.path.join(train_windflower, i))\n",
        "for i in train_cowslip_dir:\n",
        "  shutil.copy(os.path.join(cowslip_dir, i), os.path.join(train_cowslip, i))\n",
        "for i in train_iris_dir:\n",
        "  shutil.copy(os.path.join(iris_dir, i), os.path.join(train_iris, i))\n",
        "for i in train_buttercup_dir:\n",
        "  shutil.copy(os.path.join(buttercup_dir, i), os.path.join(train_buttercup, i))\n",
        "for i in train_tigerlily_dir:\n",
        "  shutil.copy(os.path.join(tigerlily_dir, i), os.path.join(train_tigerlily, i))\n",
        "for i in train_daisy_dir:\n",
        "  shutil.copy(os.path.join(daisy_dir, i), os.path.join(train_daisy, i))\n",
        "for i in train_sunflower_dir:\n",
        "  shutil.copy(os.path.join(sunflower_dir, i), os.path.join(train_sunflower, i))\n",
        "for i in train_pansy_dir:\n",
        "  shutil.copy(os.path.join(pansy_dir, i), os.path.join(train_pansy, i))\n",
        "\n",
        "#val directory\n",
        "for i in val_dandelion_dir:\n",
        "  shutil.copy(os.path.join(dandelion_dir, i), os.path.join(val_dandelion, i))\n",
        "for i in val_crocus_dir:\n",
        "  shutil.copy(os.path.join(crocus_dir, i), os.path.join(val_crocus, i))\n",
        "for i in val_coltsfoot_dir:\n",
        "  shutil.copy(os.path.join(coltsfoot_dir, i), os.path.join(val_coltsfoot, i))\n",
        "for i in val_bluebell_dir:\n",
        "  shutil.copy(os.path.join(bluebell_dir, i), os.path.join(val_bluebell, i))\n",
        "for i in val_snowdrop_dir:\n",
        "  shutil.copy(os.path.join(snowdrop_dir, i), os.path.join(val_snowdrop, i))\n",
        "for i in val_lillyvalley_dir:\n",
        "  shutil.copy(os.path.join(lillyvalley_dir, i), os.path.join(val_lillyvalley, i))\n",
        "for i in val_fritillary_dir:\n",
        "  shutil.copy(os.path.join(fritillary_dir, i), os.path.join(val_fritillary, i))\n",
        "for i in val_daffodil_dir:\n",
        "  shutil.copy(os.path.join(daffodil_dir, i), os.path.join(val_daffodil, i))\n",
        "for i in val_tulip_dir:\n",
        "  shutil.copy(os.path.join(tulip_dir, i), os.path.join(val_tulip, i))\n",
        "for i in val_windflower_dir:\n",
        "  shutil.copy(os.path.join(windflower_dir, i), os.path.join(val_windflower, i))\n",
        "for i in val_cowslip_dir:\n",
        "  shutil.copy(os.path.join(cowslip_dir, i), os.path.join(val_cowslip, i))\n",
        "for i in val_iris_dir:\n",
        "  shutil.copy(os.path.join(iris_dir, i), os.path.join(val_iris, i))\n",
        "for i in val_buttercup_dir:\n",
        "  shutil.copy(os.path.join(buttercup_dir, i), os.path.join(val_buttercup, i))\n",
        "for i in val_tigerlily_dir:\n",
        "  shutil.copy(os.path.join(tigerlily_dir, i), os.path.join(val_tigerlily, i))\n",
        "for i in val_daisy_dir:\n",
        "  shutil.copy(os.path.join(daisy_dir, i), os.path.join(val_daisy, i))\n",
        "for i in val_sunflower_dir:\n",
        "  shutil.copy(os.path.join(sunflower_dir, i), os.path.join(val_sunflower, i))\n",
        "for i in val_pansy_dir:\n",
        "  shutil.copy(os.path.join(pansy_dir, i), os.path.join(val_pansy, i))"
      ],
      "execution_count": null,
      "outputs": []
    },
    {
      "cell_type": "code",
      "metadata": {
        "id": "2jitEpal5TAi",
        "colab": {
          "base_uri": "https://localhost:8080/",
          "height": 50
        },
        "outputId": "1e16e03e-4965-44a2-aa33-460ba6d2a877"
      },
      "source": [
        "dandeliontrainCount = len(os.listdir(train_dandelion))\n",
        "dandelionvalidCount = len(os.listdir(val_dandelion))\n",
        "trainCount = 17 * dandeliontrainCount\n",
        "validCount = 17 * dandelionvalidCount\n",
        "print(trainCount)\n",
        "print(validCount)"
      ],
      "execution_count": null,
      "outputs": [
        {
          "output_type": "stream",
          "text": [
            "952\n",
            "408\n"
          ],
          "name": "stdout"
        }
      ]
    },
    {
      "cell_type": "markdown",
      "metadata": {
        "id": "jtuv8OOqX12h"
      },
      "source": [
        "Definisikan direktori dataset di Google Drive, serta setup datagenerator dataset training & validasi"
      ]
    },
    {
      "cell_type": "code",
      "metadata": {
        "id": "Kb0uI0scXj9D"
      },
      "source": [
        "train_datagen = ImageDataGenerator(rescale=1./255)\n",
        "val_datagen = ImageDataGenerator(rescale=1./255)"
      ],
      "execution_count": null,
      "outputs": []
    },
    {
      "cell_type": "markdown",
      "metadata": {
        "id": "qmkOWVqGYaoh"
      },
      "source": [
        "Masukan dataset kedalam generator berdasarkan batch, kemudian resize ke ukuran 224x224 dengan mode kelas berdasarkan kategorikal"
      ]
    },
    {
      "cell_type": "code",
      "metadata": {
        "id": "6dDiZuytYNiE",
        "colab": {
          "base_uri": "https://localhost:8080/",
          "height": 50
        },
        "outputId": "7252430b-1215-453a-d64c-c3632f7c1d08"
      },
      "source": [
        "train_generator = train_datagen.flow_from_directory(\n",
        "        train_dir,\n",
        "        target_size=(224, 224),\n",
        "        batch_size=68,\n",
        "        class_mode='categorical')\n",
        "\n",
        "validation_generator = val_datagen.flow_from_directory(\n",
        "        validation_dir,\n",
        "        target_size=(224, 224),\n",
        "        batch_size=51,\n",
        "        shuffle=False,\n",
        "        class_mode='categorical')"
      ],
      "execution_count": null,
      "outputs": [
        {
          "output_type": "stream",
          "text": [
            "Found 952 images belonging to 17 classes.\n",
            "Found 408 images belonging to 17 classes.\n"
          ],
          "name": "stdout"
        }
      ]
    },
    {
      "cell_type": "markdown",
      "metadata": {
        "id": "mjw8QCGBa60H"
      },
      "source": [
        "Buat file labels.txt untuk referensi label kelas di implementasi nantinya sekaligus digunakan pada tahap evaluasi dengan confusion matrix dan classification report"
      ]
    },
    {
      "cell_type": "code",
      "metadata": {
        "id": "97WY4RaBaita",
        "colab": {
          "base_uri": "https://localhost:8080/",
          "height": 54
        },
        "outputId": "0ce32bc3-f210-49a0-eec0-ef53d0052afc"
      },
      "source": [
        "print (train_generator.class_indices)\n",
        "\n",
        "labels = '\\n'.join(sorted(train_generator.class_indices.keys()))\n",
        "\n",
        "with open('labels.txt', 'w') as f:\n",
        "  f.write(labels)"
      ],
      "execution_count": null,
      "outputs": [
        {
          "output_type": "stream",
          "text": [
            "{'Bluebell': 0, 'Buttercup': 1, 'Coltsfoot': 2, 'Cowslip': 3, 'Crocus': 4, 'Daffodil': 5, 'Daisy': 6, 'Dandelion': 7, 'Fritillary': 8, 'Iris': 9, 'Lillyvalley': 10, 'Pansy': 11, 'Snowdrop': 12, 'Sunflower': 13, 'Tigerlily': 14, 'Tulip': 15, 'Windflower': 16}\n"
          ],
          "name": "stdout"
        }
      ]
    },
    {
      "cell_type": "markdown",
      "metadata": {
        "id": "MyFRAzeWZlJf"
      },
      "source": [
        "Import model pre-trained MobileNet V2 dari keras.applications(), tentukan input shapenya menjadi 224x224, instruksikan untuk tidak menggunakan lapisan akhir model, dan pilih wightsnya ImageNet"
      ]
    },
    {
      "cell_type": "code",
      "metadata": {
        "id": "6xYvELFhZF-k",
        "colab": {
          "base_uri": "https://localhost:8080/",
          "height": 50
        },
        "outputId": "af0fc1ba-6f91-4df3-c1aa-b0684ce7f546"
      },
      "source": [
        "IMG_SHAPE = (224, 224, 3)\n",
        "\n",
        "base_model = tf.keras.applications.MobileNetV2(input_shape=IMG_SHAPE,\n",
        "                                               include_top=False,\n",
        "                                               alpha=1.0,\n",
        "                                               weights='imagenet')"
      ],
      "execution_count": null,
      "outputs": [
        {
          "output_type": "stream",
          "text": [
            "Downloading data from https://storage.googleapis.com/tensorflow/keras-applications/mobilenet_v2/mobilenet_v2_weights_tf_dim_ordering_tf_kernels_1.0_224_no_top.h5\n",
            "9412608/9406464 [==============================] - 0s 0us/step\n"
          ],
          "name": "stdout"
        }
      ]
    },
    {
      "cell_type": "markdown",
      "metadata": {
        "id": "I2f5jOxaZnwI"
      },
      "source": [
        "Freeze lapisan-lapisan yang ada di model pre-trained MobileNet v2"
      ]
    },
    {
      "cell_type": "code",
      "metadata": {
        "id": "9pm2YEJ4ZPZu"
      },
      "source": [
        "base_model.trainable = False"
      ],
      "execution_count": null,
      "outputs": []
    },
    {
      "cell_type": "markdown",
      "metadata": {
        "id": "bitI-YTaZ_bY"
      },
      "source": [
        "Buat dan gabungkan lapisan fully connected yang dibuat dengan model pre-trained yang sudah di bekukan"
      ]
    },
    {
      "cell_type": "code",
      "metadata": {
        "id": "neBaDX5IZPGu",
        "colab": {
          "base_uri": "https://localhost:8080/",
          "height": 252
        },
        "outputId": "5633b897-4783-4506-99a0-446d911c5426"
      },
      "source": [
        "model = tf.keras.models.Sequential()\n",
        "model.add(base_model)\n",
        "model.add(tf.keras.layers.Flatten())\n",
        "model.add(tf.keras.layers.Dense(17, activation='softmax'))\n",
        "\n",
        "model.summary()"
      ],
      "execution_count": null,
      "outputs": [
        {
          "output_type": "stream",
          "text": [
            "Model: \"sequential\"\n",
            "_________________________________________________________________\n",
            "Layer (type)                 Output Shape              Param #   \n",
            "=================================================================\n",
            "mobilenetv2_1.00_224 (Model) (None, 7, 7, 1280)        2257984   \n",
            "_________________________________________________________________\n",
            "flatten (Flatten)            (None, 62720)             0         \n",
            "_________________________________________________________________\n",
            "dense (Dense)                (None, 17)                1066257   \n",
            "=================================================================\n",
            "Total params: 3,324,241\n",
            "Trainable params: 1,066,257\n",
            "Non-trainable params: 2,257,984\n",
            "_________________________________________________________________\n"
          ],
          "name": "stdout"
        }
      ]
    },
    {
      "cell_type": "markdown",
      "metadata": {
        "id": "LwQgTgMIbUN8"
      },
      "source": [
        "Konfigurasi parameter pelatihan dan mulai proses training-nya"
      ]
    },
    {
      "cell_type": "code",
      "metadata": {
        "id": "m2jS5pP9aOje",
        "colab": {
          "base_uri": "https://localhost:8080/",
          "height": 689
        },
        "outputId": "65dadb91-7c73-4357-c284-85bfb2a2e4ac"
      },
      "source": [
        "model.compile(loss='categorical_crossentropy',\n",
        "              optimizer=Adam(lr=0.0001),\n",
        "              metrics=['categorical_accuracy'])\n",
        "\n",
        "history = model.fit(\n",
        "      train_generator,\n",
        "      steps_per_epoch=14,  # 952 images = batch_size * steps\n",
        "      epochs=20,\n",
        "      validation_data=validation_generator,\n",
        "      validation_steps=8,  # 408 images = batch_size * steps\n",
        "      verbose=1)"
      ],
      "execution_count": null,
      "outputs": [
        {
          "output_type": "stream",
          "text": [
            "Epoch 1/20\n",
            "14/14 [==============================] - 8s 575ms/step - loss: 1.8525 - categorical_accuracy: 0.4695 - val_loss: 0.8624 - val_categorical_accuracy: 0.7279\n",
            "Epoch 2/20\n",
            "14/14 [==============================] - 7s 529ms/step - loss: 0.1932 - categorical_accuracy: 0.9527 - val_loss: 0.5810 - val_categorical_accuracy: 0.8211\n",
            "Epoch 3/20\n",
            "14/14 [==============================] - 7s 526ms/step - loss: 0.0448 - categorical_accuracy: 0.9926 - val_loss: 0.5160 - val_categorical_accuracy: 0.8431\n",
            "Epoch 4/20\n",
            "14/14 [==============================] - 7s 525ms/step - loss: 0.0150 - categorical_accuracy: 0.9989 - val_loss: 0.5067 - val_categorical_accuracy: 0.8333\n",
            "Epoch 5/20\n",
            "14/14 [==============================] - 7s 524ms/step - loss: 0.0094 - categorical_accuracy: 1.0000 - val_loss: 0.4834 - val_categorical_accuracy: 0.8505\n",
            "Epoch 6/20\n",
            "14/14 [==============================] - 8s 537ms/step - loss: 0.0070 - categorical_accuracy: 1.0000 - val_loss: 0.4644 - val_categorical_accuracy: 0.8578\n",
            "Epoch 7/20\n",
            "14/14 [==============================] - 7s 532ms/step - loss: 0.0060 - categorical_accuracy: 1.0000 - val_loss: 0.4577 - val_categorical_accuracy: 0.8627\n",
            "Epoch 8/20\n",
            "14/14 [==============================] - 7s 521ms/step - loss: 0.0053 - categorical_accuracy: 1.0000 - val_loss: 0.4538 - val_categorical_accuracy: 0.8676\n",
            "Epoch 9/20\n",
            "14/14 [==============================] - 7s 523ms/step - loss: 0.0048 - categorical_accuracy: 1.0000 - val_loss: 0.4512 - val_categorical_accuracy: 0.8676\n",
            "Epoch 10/20\n",
            "14/14 [==============================] - 7s 527ms/step - loss: 0.0043 - categorical_accuracy: 1.0000 - val_loss: 0.4486 - val_categorical_accuracy: 0.8676\n",
            "Epoch 11/20\n",
            "14/14 [==============================] - 7s 528ms/step - loss: 0.0040 - categorical_accuracy: 1.0000 - val_loss: 0.4458 - val_categorical_accuracy: 0.8652\n",
            "Epoch 12/20\n",
            "14/14 [==============================] - 7s 521ms/step - loss: 0.0036 - categorical_accuracy: 1.0000 - val_loss: 0.4437 - val_categorical_accuracy: 0.8676\n",
            "Epoch 13/20\n",
            "14/14 [==============================] - 7s 522ms/step - loss: 0.0034 - categorical_accuracy: 1.0000 - val_loss: 0.4415 - val_categorical_accuracy: 0.8676\n",
            "Epoch 14/20\n",
            "14/14 [==============================] - 7s 519ms/step - loss: 0.0031 - categorical_accuracy: 1.0000 - val_loss: 0.4394 - val_categorical_accuracy: 0.8676\n",
            "Epoch 15/20\n",
            "14/14 [==============================] - 7s 522ms/step - loss: 0.0029 - categorical_accuracy: 1.0000 - val_loss: 0.4367 - val_categorical_accuracy: 0.8676\n",
            "Epoch 16/20\n",
            "14/14 [==============================] - 7s 521ms/step - loss: 0.0027 - categorical_accuracy: 1.0000 - val_loss: 0.4347 - val_categorical_accuracy: 0.8676\n",
            "Epoch 17/20\n",
            "14/14 [==============================] - 7s 521ms/step - loss: 0.0025 - categorical_accuracy: 1.0000 - val_loss: 0.4328 - val_categorical_accuracy: 0.8676\n",
            "Epoch 18/20\n",
            "14/14 [==============================] - 7s 522ms/step - loss: 0.0024 - categorical_accuracy: 1.0000 - val_loss: 0.4314 - val_categorical_accuracy: 0.8676\n",
            "Epoch 19/20\n",
            "14/14 [==============================] - 7s 522ms/step - loss: 0.0022 - categorical_accuracy: 1.0000 - val_loss: 0.4299 - val_categorical_accuracy: 0.8725\n",
            "Epoch 20/20\n",
            "14/14 [==============================] - 7s 528ms/step - loss: 0.0021 - categorical_accuracy: 1.0000 - val_loss: 0.4283 - val_categorical_accuracy: 0.8725\n"
          ],
          "name": "stdout"
        }
      ]
    },
    {
      "cell_type": "markdown",
      "metadata": {
        "id": "XcGQcp_9cKjM"
      },
      "source": [
        "Evaluasi hasil pelatihan dengan grafik visualisasi proses training"
      ]
    },
    {
      "cell_type": "code",
      "metadata": {
        "id": "uWCl8K0Ib8cE",
        "colab": {
          "base_uri": "https://localhost:8080/",
          "height": 562
        },
        "outputId": "77d4c35e-324d-4d85-de9d-1d0605ada2cc"
      },
      "source": [
        "# Retrieve a list of accuracy results on training and validation data\n",
        "# sets for each training epoch\n",
        "acc = history.history['categorical_accuracy']\n",
        "val_acc = history.history['val_categorical_accuracy']\n",
        "\n",
        "# Retrieve a list of list results on training and validation data\n",
        "# sets for each training epoch\n",
        "loss = history.history['loss']\n",
        "val_loss = history.history['val_loss']\n",
        "\n",
        "# Get number of epochs\n",
        "epochs = range(len(acc))\n",
        "\n",
        "# Plot training and validation accuracy per epoch\n",
        "plt.plot(epochs, acc, label = 'Training Accuracy')\n",
        "plt.plot(epochs, val_acc, label = 'Validation Accuracy')\n",
        "plt.legend(loc='lower right')\n",
        "plt.title('Training and validation accuracy')\n",
        "\n",
        "plt.figure()\n",
        "\n",
        "# Plot training and validation loss per epoch\n",
        "plt.plot(epochs, loss, label = 'Training Loss')\n",
        "plt.plot(epochs, val_loss, label = 'Validation Loss')\n",
        "plt.legend(loc='upper right')\n",
        "plt.title('Training and validation loss')"
      ],
      "execution_count": null,
      "outputs": [
        {
          "output_type": "execute_result",
          "data": {
            "text/plain": [
              "Text(0.5, 1.0, 'Training and validation loss')"
            ]
          },
          "metadata": {
            "tags": []
          },
          "execution_count": 17
        },
        {
          "output_type": "display_data",
          "data": {
            "image/png": "[encoded data removed]",
            "text/plain": [
              "<Figure size 432x288 with 1 Axes>"
            ]
          },
          "metadata": {
            "tags": [],
            "needs_background": "light"
          }
        },
        {
          "output_type": "display_data",
          "data": {
            "image/png": "[encoded data removed]",
            "text/plain": [
              "<Figure size 432x288 with 1 Axes>"
            ]
          },
          "metadata": {
            "tags": [],
            "needs_background": "light"
          }
        }
      ]
    },
    {
      "cell_type": "markdown",
      "metadata": {
        "id": "BP4Et9txb2eK"
      },
      "source": [
        "Evaluasi akurasi akhir model pada kumpulan dataset validasi"
      ]
    },
    {
      "cell_type": "code",
      "metadata": {
        "id": "FmpV05w8bi2P",
        "colab": {
          "base_uri": "https://localhost:8080/",
          "height": 50
        },
        "outputId": "f841013c-bcee-4d53-b32a-8110904b7480"
      },
      "source": [
        "validation_generator.reset()\n",
        "STEP_SIZE_VALID=validation_generator.n//validation_generator.batch_size\n",
        "model.evaluate(validation_generator, steps=STEP_SIZE_VALID)"
      ],
      "execution_count": null,
      "outputs": [
        {
          "output_type": "stream",
          "text": [
            "8/8 [==============================] - 2s 247ms/step - loss: 0.4283 - categorical_accuracy: 0.8725\n"
          ],
          "name": "stdout"
        },
        {
          "output_type": "execute_result",
          "data": {
            "text/plain": [
              "[0.42829611897468567, 0.8725489974021912]"
            ]
          },
          "metadata": {
            "tags": []
          },
          "execution_count": 18
        }
      ]
    },
    {
      "cell_type": "markdown",
      "metadata": {
        "id": "iE4vdNqRedCu"
      },
      "source": [
        "Definisikan plotting confusion matrix terlebih dahulu"
      ]
    },
    {
      "cell_type": "code",
      "metadata": {
        "id": "LkTE5H3psOf1"
      },
      "source": [
        "def plot_confusion_matrix(cm, classes,\n",
        "                          normalize=False,\n",
        "                          title='Confusion matrix',\n",
        "                          cmap=plt.cm.Blues):\n",
        "        \"\"\"\n",
        "        This function prints and plots the confusion matrix.\n",
        "        Normalization can be applied by setting `normalize=True`.\n",
        "        \"\"\"\n",
        "        if normalize:\n",
        "            cm = cm.astype('float') / cm.sum(axis=1)[:, np.newaxis]\n",
        "            title='Normalized confusion matrix'\n",
        "        else:\n",
        "            title='Confusion matrix'\n",
        "\n",
        "        # Calculate chart area size\n",
        "        leftmargin = 0.5 # inches\n",
        "        rightmargin = 0.5 # inches\n",
        "        categorysize = 0.5 # inches\n",
        "        figwidth = leftmargin + rightmargin + (len(classes) * categorysize)           \n",
        "\n",
        "        f = plt.figure(figsize=(figwidth, figwidth))\n",
        "\n",
        "        # Create an axes instance and ajust the subplot size\n",
        "        ax = f.add_subplot(111)\n",
        "        ax.set_aspect(1)\n",
        "        f.subplots_adjust(left=leftmargin/figwidth, right=1-rightmargin/figwidth, top=0.94, bottom=0.1)\n",
        "\n",
        "        res = ax.imshow(cm, interpolation='nearest', cmap=cmap)\n",
        "\n",
        "        plt.title(title)\n",
        "        plt.colorbar(res)\n",
        "        ax.set_xticks(range(len(classes)))\n",
        "        ax.set_yticks(range(len(classes)))\n",
        "        ax.set_xticklabels(classes, rotation=45, ha='right')\n",
        "        ax.set_yticklabels(classes)\n",
        "\n",
        "        fmt = '.2f' if normalize else 'd'\n",
        "        thresh = cm.max() / 2.\n",
        "        for i, j in itertools.product(range(cm.shape[0]), range(cm.shape[1])):\n",
        "            ax.text(j, i, format(cm[i, j], fmt),\n",
        "                    horizontalalignment=\"center\",\n",
        "                    color=\"white\" if cm[i, j] > thresh else \"black\")\n",
        "\n",
        "        # plt.tight_layout()\n",
        "        plt.ylabel('True label')\n",
        "        plt.xlabel('Predicted label')"
      ],
      "execution_count": null,
      "outputs": []
    },
    {
      "cell_type": "markdown",
      "metadata": {
        "id": "YAtTFzLKej3_"
      },
      "source": [
        "Evaluasi klasifikasi dengan menggunakan confusion matrix"
      ]
    },
    {
      "cell_type": "code",
      "metadata": {
        "id": "Npc8dSLJdqg5",
        "colab": {
          "base_uri": "https://localhost:8080/",
          "height": 1000
        },
        "outputId": "1f6e2117-4590-4b0b-dd97-b920125390e0"
      },
      "source": [
        "validation_generator.reset()\n",
        "Y_pred = model.predict(validation_generator, steps=STEP_SIZE_VALID)\n",
        "y_pred = np.argmax(Y_pred, axis=1)\n",
        "target_names = !cat labels.txt\n",
        "\n",
        "cm = confusion_matrix(validation_generator.classes, y_pred)\n",
        "\n",
        "# Compute confusion matrix\n",
        "cnf_matrix = cm\n",
        "np.set_printoptions(precision=2)\n",
        "\n",
        "# Plot non-normalized confusion matrix\n",
        "plt.figure()\n",
        "plot_confusion_matrix(cnf_matrix, classes=target_names, title='Confusion matrix, without normalization')\n",
        "\n",
        "# Plot normalized confusion matrix\n",
        "plt.figure()\n",
        "plot_confusion_matrix(cnf_matrix, classes=target_names, normalize=True, title='Normalized confusion matrix')\n",
        "\n",
        "plt.show()"
      ],
      "execution_count": null,
      "outputs": [
        {
          "output_type": "display_data",
          "data": {
            "text/plain": [
              "<Figure size 432x288 with 0 Axes>"
            ]
          },
          "metadata": {
            "tags": []
          }
        },
        {
          "output_type": "display_data",
          "data": {
            "image/png": "[encoded data removed]",
            "text/plain": [
              "<Figure size 684x684 with 2 Axes>"
            ]
          },
          "metadata": {
            "tags": [],
            "needs_background": "light"
          }
        },
        {
          "output_type": "display_data",
          "data": {
            "text/plain": [
              "<Figure size 432x288 with 0 Axes>"
            ]
          },
          "metadata": {
            "tags": []
          }
        },
        {
          "output_type": "display_data",
          "data": {
            "image/png": "[encoded data removed]",
            "text/plain": [
              "<Figure size 684x684 with 2 Axes>"
            ]
          },
          "metadata": {
            "tags": [],
            "needs_background": "light"
          }
        }
      ]
    },
    {
      "cell_type": "markdown",
      "metadata": {
        "id": "v2Cr2Th6epsR"
      },
      "source": [
        "Evaluasi klasifikasi dengan laporan klasifikasi (classification report)"
      ]
    },
    {
      "cell_type": "code",
      "metadata": {
        "id": "I4lHYM-HdXBY",
        "colab": {
          "base_uri": "https://localhost:8080/",
          "height": 437
        },
        "outputId": "d0200817-9361-4bea-85ea-06a2edf0b991"
      },
      "source": [
        "print('Classification Report')\n",
        "target_names = !cat labels.txt\n",
        "print(classification_report(validation_generator.classes, y_pred, target_names=target_names))"
      ],
      "execution_count": null,
      "outputs": [
        {
          "output_type": "stream",
          "text": [
            "Classification Report\n",
            "              precision    recall  f1-score   support\n",
            "\n",
            "    Bluebell       0.92      0.96      0.94        24\n",
            "   Buttercup       0.90      0.79      0.84        24\n",
            "   Coltsfoot       0.90      0.79      0.84        24\n",
            "     Cowslip       0.79      0.79      0.79        24\n",
            "      Crocus       0.76      0.79      0.78        24\n",
            "    Daffodil       0.78      0.88      0.82        24\n",
            "       Daisy       0.88      0.88      0.88        24\n",
            "   Dandelion       0.88      0.92      0.90        24\n",
            "  Fritillary       1.00      0.96      0.98        24\n",
            "        Iris       0.88      0.92      0.90        24\n",
            " Lillyvalley       0.88      0.92      0.90        24\n",
            "       Pansy       1.00      0.88      0.93        24\n",
            "    Snowdrop       0.86      0.75      0.80        24\n",
            "   Sunflower       1.00      0.88      0.93        24\n",
            "   Tigerlily       0.92      1.00      0.96        24\n",
            "       Tulip       0.74      0.83      0.78        24\n",
            "  Windflower       0.81      0.92      0.86        24\n",
            "\n",
            "    accuracy                           0.87       408\n",
            "   macro avg       0.88      0.87      0.87       408\n",
            "weighted avg       0.88      0.87      0.87       408\n",
            "\n"
          ],
          "name": "stdout"
        }
      ]
    },
    {
      "cell_type": "markdown",
      "metadata": {
        "id": "vMwHBsEye9hR"
      },
      "source": [
        "Simpan model dan konversikan kedalam format TensorFlow Lite"
      ]
    },
    {
      "cell_type": "code",
      "metadata": {
        "id": "XAhAVd_Me8nO",
        "colab": {
          "base_uri": "https://localhost:8080/",
          "height": 34
        },
        "outputId": "2a3c9266-7d5b-4df0-f6d2-ee6b88993292"
      },
      "source": [
        "converter = tf.lite.TFLiteConverter.from_keras_model(model)\n",
        "tflite_model = converter.convert()\n",
        "open (\"tl_mobilenetv2_oxford17.tflite\" , \"wb\") .write(tflite_model)"
      ],
      "execution_count": null,
      "outputs": [
        {
          "output_type": "execute_result",
          "data": {
            "text/plain": [
              "13112448"
            ]
          },
          "metadata": {
            "tags": []
          },
          "execution_count": 22
        }
      ]
    }
  ]
}